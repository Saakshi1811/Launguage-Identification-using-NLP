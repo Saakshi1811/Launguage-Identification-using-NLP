{
 "cells": [
  {
   "cell_type": "code",
   "execution_count": 60,
   "id": "ea7f9f09",
   "metadata": {},
   "outputs": [],
   "source": [
    "def language_identification(path,sent):\n",
    "    \n",
    "    #reading the dataset\n",
    "    import pandas as pd\n",
    "    df=pd.read_csv(path)\n",
    "    \n",
    "    #dropping the duplicates from the dataframe\n",
    "    df1=df.drop_duplicates()\n",
    "    \n",
    "    #seaparating the dependent and independent variable in x and y variable\n",
    "    x=df1['Text']\n",
    "    y=df1['language']\n",
    "    \n",
    "    #Performing Label encoding on y variable by using LabelEncoder\n",
    "    from sklearn.preprocessing import LabelEncoder\n",
    "    LB=LabelEncoder()\n",
    "    \n",
    "    #creating an array by performing Label Encoding\n",
    "    y1=LB.fit_transform(y)\n",
    "    \n",
    "    #convert the array into dataframe\n",
    "    y2=pd.DataFrame(y1,columns=['language'])\n",
    "    \n",
    "    #tokenization\n",
    "    from nltk.tokenize import sent_tokenize\n",
    "    def Tokenization(data):\n",
    "        token=sent_tokenize(data)\n",
    "        return token\n",
    "    \n",
    "    x_token=x.apply(Tokenization)     # takes x as series\n",
    "    \n",
    "    #cleaning\n",
    "    from string import punctuation\n",
    "    def Cleaning(data):\n",
    "        clean=[i for i in data if i not in punctuation]\n",
    "        return clean\n",
    "    \n",
    "    x_clean=x_token.apply(Cleaning)\n",
    "    \n",
    "    #joining\n",
    "    def Join(data):\n",
    "        text=''.join(data)\n",
    "        return text\n",
    "    \n",
    "    x_join=x_clean.apply(Join)\n",
    "    \n",
    "    #Splitting the data into traning and testing dataset\n",
    "    from sklearn.model_selection import train_test_split\n",
    "    \n",
    "    xtrain,xtest,ytrain,ytest=train_test_split(x_join,y2,test_size=0.25,random_state=42,stratify=y2)\n",
    "    \n",
    "    #vectorization\n",
    "    from sklearn.feature_extraction.text import TfidfVectorizer\n",
    "    \n",
    "    TF=TfidfVectorizer(max_df=0.95,max_features=2000)\n",
    "    \n",
    "    xtrain_df=TF.fit_transform(xtrain)\n",
    "    xtest_df=TF.transform(xtest)\n",
    "    \n",
    "    #building and initializing the model using Naive Bayes\n",
    "    from sklearn.naive_bayes import MultinomialNB\n",
    "    \n",
    "    mnb_model=MultinomialNB()\n",
    "    mnb_model.fit(xtrain_df.A,ytrain)\n",
    "    \n",
    "    #model accuracy\n",
    "    from sklearn.metrics import accuracy_score\n",
    "    \n",
    "    ypredtest=mnb_model.predict(xtest_df.A)\n",
    "    \n",
    "    print('The accuracy of the model is',accuracy_score(ytest,ypredtest))\n",
    "    \n",
    "    #final solution to the given input\n",
    "    def Solution(model,sentence):\n",
    "        token=sent_tokenize(sentence)\n",
    "        clean=[i for i in token if i not in punctuation]\n",
    "        text=''.join(clean)\n",
    "        text=TF.transform([text])\n",
    "        y3=model.predict(text)\n",
    "        z =LB.inverse_transform(y3)\n",
    "        for i in y:\n",
    "            if i == z:\n",
    "                return z                   \n",
    "            else: \n",
    "                a = 'language not found'\n",
    "                return a\n",
    "#         return LB.inverse_transform(y3)\n",
    "    \n",
    "    print('The language of the given sentence is', Solution(mnb_model,sent))\n",
    "    "
   ]
  },
  {
   "cell_type": "code",
   "execution_count": 61,
   "id": "ce52ce59",
   "metadata": {},
   "outputs": [
    {
     "name": "stdout",
     "output_type": "stream",
     "text": [
      "Give me the sentence.....nuqDaq ‘oH tach’e’ \n"
     ]
    }
   ],
   "source": [
    "path='dataset (1).csv'\n",
    "sent=input('Give me the sentence.....')"
   ]
  },
  {
   "cell_type": "code",
   "execution_count": 62,
   "id": "85851f3d",
   "metadata": {},
   "outputs": [
    {
     "name": "stderr",
     "output_type": "stream",
     "text": [
      "F:\\Anaconda\\lib\\site-packages\\sklearn\\utils\\validation.py:993: DataConversionWarning: A column-vector y was passed when a 1d array was expected. Please change the shape of y to (n_samples, ), for example using ravel().\n",
      "  y = column_or_1d(y, warn=True)\n"
     ]
    },
    {
     "name": "stdout",
     "output_type": "stream",
     "text": [
      "The accuracy of the model is 0.9322964318389753\n",
      "The language of the given sentence is language not found\n"
     ]
    }
   ],
   "source": [
    "language_identification(path,sent)"
   ]
  },
  {
   "cell_type": "code",
   "execution_count": null,
   "id": "44ce4f92",
   "metadata": {},
   "outputs": [],
   "source": []
  }
 ],
 "metadata": {
  "kernelspec": {
   "display_name": "Python 3 (ipykernel)",
   "language": "python",
   "name": "python3"
  },
  "language_info": {
   "codemirror_mode": {
    "name": "ipython",
    "version": 3
   },
   "file_extension": ".py",
   "mimetype": "text/x-python",
   "name": "python",
   "nbconvert_exporter": "python",
   "pygments_lexer": "ipython3",
   "version": "3.9.13"
  }
 },
 "nbformat": 4,
 "nbformat_minor": 5
}
